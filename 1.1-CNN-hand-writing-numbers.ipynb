{
 "cells": [
  {
   "cell_type": "code",
   "execution_count": 43,
   "metadata": {},
   "outputs": [],
   "source": [
    "from keras import models\n",
    "from keras import layers\n",
    "\n",
    "def build_network():\n",
    "    network = models.Sequential()\n",
    "    network.add(layers.Conv2D(32, (3,3), activation='relu', input_shape=(28,28,1)))\n",
    "    network.add(layers.MaxPooling2D(2,2))\n",
    "    network.add(layers.Conv2D(64, (3,3), activation='relu'))\n",
    "    network.add(layers.MaxPooling2D(2,2))\n",
    "    network.add(layers.Conv2D(64, (3,3), activation='relu'))\n",
    "    network.add(layers.Flatten())\n",
    "    network.add(layers.Dense(64, activation='relu'))\n",
    "    network.add(layers.Dense(10, activation='softmax'))\n",
    "\n",
    "    network.compile(loss='categorical_crossentropy',\n",
    "                    optimizer='rmsprop',\n",
    "                    metrics=['accuracy'])\n",
    "    \n",
    "    return network"
   ]
  },
  {
   "cell_type": "code",
   "execution_count": 44,
   "metadata": {},
   "outputs": [
    {
     "name": "stdout",
     "output_type": "stream",
     "text": [
      "_________________________________________________________________\n",
      "Layer (type)                 Output Shape              Param #   \n",
      "=================================================================\n",
      "conv2d_25 (Conv2D)           (None, 26, 26, 32)        320       \n",
      "_________________________________________________________________\n",
      "max_pooling2d_17 (MaxPooling (None, 13, 13, 32)        0         \n",
      "_________________________________________________________________\n",
      "conv2d_26 (Conv2D)           (None, 11, 11, 64)        18496     \n",
      "_________________________________________________________________\n",
      "max_pooling2d_18 (MaxPooling (None, 5, 5, 64)          0         \n",
      "_________________________________________________________________\n",
      "conv2d_27 (Conv2D)           (None, 3, 3, 64)          36928     \n",
      "_________________________________________________________________\n",
      "flatten_9 (Flatten)          (None, 576)               0         \n",
      "_________________________________________________________________\n",
      "dense_17 (Dense)             (None, 64)                36928     \n",
      "_________________________________________________________________\n",
      "dense_18 (Dense)             (None, 10)                650       \n",
      "=================================================================\n",
      "Total params: 93,322\n",
      "Trainable params: 93,322\n",
      "Non-trainable params: 0\n",
      "_________________________________________________________________\n"
     ]
    }
   ],
   "source": [
    "network = build_network()\n",
    "network.summary()"
   ]
  },
  {
   "cell_type": "code",
   "execution_count": 45,
   "metadata": {},
   "outputs": [],
   "source": [
    "from keras.datasets import mnist\n",
    "from keras.utils import to_categorical\n",
    "\n",
    "def prepare_data():\n",
    "    (x_train, y_train), (x_test, y_test) = mnist.load_data()\n",
    "\n",
    "    x_train = x_train.reshape((-1, 28, 28, 1))\n",
    "    x_train = x_train.astype('float32')/255\n",
    "\n",
    "    x_train = x_train.reshape((-1, 28, 28, 1))\n",
    "    x_test = x_test.astype('float32')/255\n",
    "    \n",
    "    y_train = to_categorical(y_train)\n",
    "    y_test = to_categorical(y_test)\n",
    "    \n",
    "    return x_train, y_train, x_test, y_test"
   ]
  },
  {
   "cell_type": "code",
   "execution_count": 46,
   "metadata": {},
   "outputs": [],
   "source": [
    "x_train, y_train, x_test, y_test = prepare_data()"
   ]
  },
  {
   "cell_type": "code",
   "execution_count": 47,
   "metadata": {},
   "outputs": [
    {
     "name": "stdout",
     "output_type": "stream",
     "text": [
      "Train on 48000 samples, validate on 12000 samples\n",
      "Epoch 1/10\n",
      "48000/48000 [==============================] - 25s 528us/step - loss: 0.2734 - acc: 0.9144 - val_loss: 0.0822 - val_acc: 0.9765\n",
      "Epoch 2/10\n",
      "48000/48000 [==============================] - 22s 464us/step - loss: 0.0634 - acc: 0.9799 - val_loss: 0.0523 - val_acc: 0.9842\n",
      "Epoch 3/10\n",
      "48000/48000 [==============================] - 24s 508us/step - loss: 0.0425 - acc: 0.9864 - val_loss: 0.0417 - val_acc: 0.9878\n",
      "Epoch 4/10\n",
      "48000/48000 [==============================] - 24s 509us/step - loss: 0.0313 - acc: 0.9901 - val_loss: 0.0360 - val_acc: 0.9897\n",
      "Epoch 5/10\n",
      "48000/48000 [==============================] - 24s 490us/step - loss: 0.0237 - acc: 0.9927 - val_loss: 0.0469 - val_acc: 0.9868\n",
      "Epoch 6/10\n",
      "48000/48000 [==============================] - 26s 548us/step - loss: 0.0193 - acc: 0.9939 - val_loss: 0.0389 - val_acc: 0.9897\n",
      "Epoch 7/10\n",
      "48000/48000 [==============================] - 26s 536us/step - loss: 0.0149 - acc: 0.9955 - val_loss: 0.0392 - val_acc: 0.9895\n",
      "Epoch 8/10\n",
      "48000/48000 [==============================] - 28s 578us/step - loss: 0.0117 - acc: 0.9961 - val_loss: 0.0529 - val_acc: 0.9859\n",
      "Epoch 9/10\n",
      "48000/48000 [==============================] - 24s 491us/step - loss: 0.0099 - acc: 0.9967 - val_loss: 0.0545 - val_acc: 0.9881\n",
      "Epoch 10/10\n",
      "48000/48000 [==============================] - 23s 487us/step - loss: 0.0092 - acc: 0.9971 - val_loss: 0.0343 - val_acc: 0.9921\n"
     ]
    }
   ],
   "source": [
    "history = network.fit(x_train, y_train, epochs=10, batch_size=128, validation_split=0.2)"
   ]
  },
  {
   "cell_type": "code",
   "execution_count": 48,
   "metadata": {},
   "outputs": [
    {
     "data": {
      "image/png": "[encoded data removed]",
      "text/plain": [
       "<Figure size 576x288 with 2 Axes>"
      ]
     },
     "metadata": {
      "needs_background": "light"
     },
     "output_type": "display_data"
    }
   ],
   "source": [
    "from util import plot_history\n",
    "\n",
    "plot_history(history)"
   ]
  },
  {
   "cell_type": "code",
   "execution_count": 49,
   "metadata": {},
   "outputs": [
    {
     "name": "stdout",
     "output_type": "stream",
     "text": [
      "10000/10000 [==============================] - 1s 127us/step\n"
     ]
    },
    {
     "data": {
      "text/plain": [
       "0.992"
      ]
     },
     "execution_count": 49,
     "metadata": {},
     "output_type": "execute_result"
    }
   ],
   "source": [
    "test_loss, test_acc = network.evaluate(x_test.reshape(-1,28,28,1), y_test)\n",
    "test_acc"
   ]
  }
 ],
 "metadata": {
  "kernelspec": {
   "display_name": "Python 3",
   "language": "python",
   "name": "python3"
  },
  "language_info": {
   "codemirror_mode": {
    "name": "ipython",
    "version": 3
   },
   "file_extension": ".py",
   "mimetype": "text/x-python",
   "name": "python",
   "nbconvert_exporter": "python",
   "pygments_lexer": "ipython3",
   "version": "3.5.6"
  }
 },
 "nbformat": 4,
 "nbformat_minor": 2
}
