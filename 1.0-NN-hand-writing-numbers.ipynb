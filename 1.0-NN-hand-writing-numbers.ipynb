{
 "cells": [
  {
   "cell_type": "code",
   "execution_count": 1,
   "metadata": {
    "scrolled": false
   },
   "outputs": [
    {
     "name": "stderr",
     "output_type": "stream",
     "text": [
      "Using TensorFlow backend.\n"
     ]
    }
   ],
   "source": [
    "from keras import models\n",
    "from keras import layers\n",
    "\n",
    "def build_network(hidden_layer_size, output_size=10):\n",
    "    network = models.Sequential()\n",
    "    network.add(layers.Dense(hidden_layer_size, activation='relu', input_shape=(28*28,)))\n",
    "    network.add(layers.Dense(output_size, activation='softmax'))\n",
    "    \n",
    "    network.compile(optimizer='rmsprop',\n",
    "                    loss='categorical_crossentropy',\n",
    "                    metrics=['accuracy'])\n",
    "    return network"
   ]
  },
  {
   "cell_type": "code",
   "execution_count": 2,
   "metadata": {
    "scrolled": false
   },
   "outputs": [],
   "source": [
    "from keras.datasets import mnist\n",
    "from keras.utils import to_categorical\n",
    "\n",
    "def prepare_data():\n",
    "    (x_train, y_train), (x_test, y_test) = mnist.load_data()\n",
    "\n",
    "    x_train = x_train.reshape((-1, 28*28))\n",
    "    x_train = x_train.astype('float32')/255\n",
    "\n",
    "    x_test = x_test.reshape((-1, 28*28))\n",
    "    x_test = x_test.astype('float32')/255\n",
    "    \n",
    "    y_train = to_categorical(y_train)\n",
    "    y_test = to_categorical(y_test)\n",
    "    \n",
    "    return x_train, y_train, x_test, y_test"
   ]
  },
  {
   "cell_type": "code",
   "execution_count": 3,
   "metadata": {
    "scrolled": false
   },
   "outputs": [
    {
     "name": "stdout",
     "output_type": "stream",
     "text": [
      "WARNING:tensorflow:From /Users/douyujie1/anaconda/lib/python3.5/site-packages/tensorflow/python/framework/op_def_library.py:263: colocate_with (from tensorflow.python.framework.ops) is deprecated and will be removed in a future version.\n",
      "Instructions for updating:\n",
      "Colocations handled automatically by placer.\n"
     ]
    }
   ],
   "source": [
    "network = build_network(512)\n",
    "x_train, y_train, x_test, y_test = prepare_data()"
   ]
  },
  {
   "cell_type": "code",
   "execution_count": 4,
   "metadata": {
    "scrolled": true
   },
   "outputs": [
    {
     "name": "stdout",
     "output_type": "stream",
     "text": [
      "WARNING:tensorflow:From /Users/douyujie1/anaconda/lib/python3.5/site-packages/tensorflow/python/ops/math_ops.py:3066: to_int32 (from tensorflow.python.ops.math_ops) is deprecated and will be removed in a future version.\n",
      "Instructions for updating:\n",
      "Use tf.cast instead.\n",
      "Train on 48000 samples, validate on 12000 samples\n",
      "Epoch 1/20\n",
      "48000/48000 [==============================] - 2s 40us/step - loss: 0.2864 - acc: 0.9173 - val_loss: 0.1450 - val_acc: 0.9570\n",
      "Epoch 2/20\n",
      "48000/48000 [==============================] - 2s 36us/step - loss: 0.1197 - acc: 0.9651 - val_loss: 0.1126 - val_acc: 0.9642\n",
      "Epoch 3/20\n",
      "48000/48000 [==============================] - 2s 36us/step - loss: 0.0768 - acc: 0.9772 - val_loss: 0.0928 - val_acc: 0.9723\n",
      "Epoch 4/20\n",
      "48000/48000 [==============================] - 2s 36us/step - loss: 0.0563 - acc: 0.9834 - val_loss: 0.0836 - val_acc: 0.9747\n",
      "Epoch 5/20\n",
      "48000/48000 [==============================] - 2s 38us/step - loss: 0.0421 - acc: 0.9869 - val_loss: 0.0733 - val_acc: 0.9781\n",
      "Epoch 6/20\n",
      "48000/48000 [==============================] - 2s 39us/step - loss: 0.0311 - acc: 0.9908 - val_loss: 0.0903 - val_acc: 0.9743\n",
      "Epoch 7/20\n",
      "48000/48000 [==============================] - 2s 37us/step - loss: 0.0237 - acc: 0.9933 - val_loss: 0.0790 - val_acc: 0.9792\n",
      "Epoch 8/20\n",
      "48000/48000 [==============================] - 2s 38us/step - loss: 0.0185 - acc: 0.9949 - val_loss: 0.0811 - val_acc: 0.9790\n",
      "Epoch 9/20\n",
      "48000/48000 [==============================] - 2s 45us/step - loss: 0.0138 - acc: 0.9961 - val_loss: 0.0832 - val_acc: 0.9781\n",
      "Epoch 10/20\n",
      "48000/48000 [==============================] - 2s 39us/step - loss: 0.0108 - acc: 0.9968 - val_loss: 0.0864 - val_acc: 0.9776\n",
      "Epoch 11/20\n",
      "48000/48000 [==============================] - 2s 40us/step - loss: 0.0081 - acc: 0.9979 - val_loss: 0.0906 - val_acc: 0.9783\n",
      "Epoch 12/20\n",
      "48000/48000 [==============================] - 2s 39us/step - loss: 0.0057 - acc: 0.9984 - val_loss: 0.0869 - val_acc: 0.9792\n",
      "Epoch 13/20\n",
      "48000/48000 [==============================] - 2s 39us/step - loss: 0.0047 - acc: 0.9988 - val_loss: 0.1053 - val_acc: 0.9761\n",
      "Epoch 14/20\n",
      "48000/48000 [==============================] - 2s 39us/step - loss: 0.0035 - acc: 0.9991 - val_loss: 0.0929 - val_acc: 0.9807\n",
      "Epoch 15/20\n",
      "48000/48000 [==============================] - 2s 40us/step - loss: 0.0029 - acc: 0.9993 - val_loss: 0.1022 - val_acc: 0.9772\n",
      "Epoch 16/20\n",
      "48000/48000 [==============================] - 2s 42us/step - loss: 0.0021 - acc: 0.9995 - val_loss: 0.0986 - val_acc: 0.9808\n",
      "Epoch 17/20\n",
      "48000/48000 [==============================] - 2s 43us/step - loss: 0.0018 - acc: 0.9995 - val_loss: 0.1022 - val_acc: 0.9808\n",
      "Epoch 18/20\n",
      "48000/48000 [==============================] - 2s 44us/step - loss: 0.0017 - acc: 0.9996 - val_loss: 0.1043 - val_acc: 0.9810\n",
      "Epoch 19/20\n",
      "48000/48000 [==============================] - 2s 39us/step - loss: 9.2946e-04 - acc: 0.9998 - val_loss: 0.1112 - val_acc: 0.9804\n",
      "Epoch 20/20\n",
      "48000/48000 [==============================] - 2s 39us/step - loss: 7.2702e-04 - acc: 0.9998 - val_loss: 0.1092 - val_acc: 0.9806\n"
     ]
    }
   ],
   "source": [
    "history = network.fit(x_train, y_train, epochs=20, batch_size=128, validation_split=0.2)"
   ]
  },
  {
   "cell_type": "code",
   "execution_count": 5,
   "metadata": {
    "scrolled": false
   },
   "outputs": [
    {
     "data": {
      "text/plain": [
       "<Figure size 800x400 with 2 Axes>"
      ]
     },
     "metadata": {},
     "output_type": "display_data"
    }
   ],
   "source": [
    "from util import plot_history\n",
    "\n",
    "plot_history(history)"
   ]
  },
  {
   "cell_type": "code",
   "execution_count": 6,
   "metadata": {
    "scrolled": false
   },
   "outputs": [
    {
     "name": "stdout",
     "output_type": "stream",
     "text": [
      "10000/10000 [==============================] - 0s 25us/step\n",
      "test acc: 0.9812\n"
     ]
    }
   ],
   "source": [
    "test_loss, test_acc = network.evaluate(x_test, y_test)\n",
    "print('test acc:', test_acc)"
   ]
  },
  {
   "cell_type": "code",
   "execution_count": 7,
   "metadata": {
    "scrolled": true
   },
   "outputs": [
    {
     "name": "stdout",
     "output_type": "stream",
     "text": [
      "Train on 48000 samples, validate on 12000 samples\n",
      "Epoch 1/20\n",
      "48000/48000 [==============================] - 1s 30us/step - loss: 0.3214 - acc: 0.9088 - val_loss: 0.1711 - val_acc: 0.9494\n",
      "Epoch 2/20\n",
      "48000/48000 [==============================] - 1s 27us/step - loss: 0.1442 - acc: 0.9576 - val_loss: 0.1230 - val_acc: 0.9650\n",
      "Epoch 3/20\n",
      "48000/48000 [==============================] - 1s 27us/step - loss: 0.0983 - acc: 0.9713 - val_loss: 0.0988 - val_acc: 0.9701\n",
      "Epoch 4/20\n",
      "48000/48000 [==============================] - 1s 28us/step - loss: 0.0740 - acc: 0.9782 - val_loss: 0.0985 - val_acc: 0.9708\n",
      "Epoch 5/20\n",
      "48000/48000 [==============================] - 1s 26us/step - loss: 0.0561 - acc: 0.9841 - val_loss: 0.0829 - val_acc: 0.9754\n",
      "Epoch 6/20\n",
      "48000/48000 [==============================] - 1s 27us/step - loss: 0.0443 - acc: 0.9874 - val_loss: 0.0866 - val_acc: 0.9750\n",
      "Epoch 7/20\n",
      "48000/48000 [==============================] - 2s 33us/step - loss: 0.0365 - acc: 0.9894 - val_loss: 0.0803 - val_acc: 0.9763\n",
      "Epoch 8/20\n",
      "48000/48000 [==============================] - 1s 27us/step - loss: 0.0294 - acc: 0.9918 - val_loss: 0.0756 - val_acc: 0.9790\n",
      "Epoch 9/20\n",
      "48000/48000 [==============================] - 1s 26us/step - loss: 0.0235 - acc: 0.9934 - val_loss: 0.0824 - val_acc: 0.9762\n",
      "Epoch 10/20\n",
      "48000/48000 [==============================] - 1s 26us/step - loss: 0.0190 - acc: 0.9946 - val_loss: 0.0823 - val_acc: 0.9780\n",
      "Epoch 11/20\n",
      "48000/48000 [==============================] - 1s 26us/step - loss: 0.0152 - acc: 0.9962 - val_loss: 0.0854 - val_acc: 0.9773\n",
      "Epoch 12/20\n",
      "48000/48000 [==============================] - 1s 26us/step - loss: 0.0121 - acc: 0.9969 - val_loss: 0.0920 - val_acc: 0.9776\n",
      "Epoch 13/20\n",
      "48000/48000 [==============================] - 1s 26us/step - loss: 0.0103 - acc: 0.9974 - val_loss: 0.0814 - val_acc: 0.9787\n",
      "Epoch 14/20\n",
      "48000/48000 [==============================] - 1s 26us/step - loss: 0.0079 - acc: 0.9980 - val_loss: 0.0915 - val_acc: 0.9770\n",
      "Epoch 15/20\n",
      "48000/48000 [==============================] - 1s 27us/step - loss: 0.0062 - acc: 0.9987 - val_loss: 0.0880 - val_acc: 0.9800\n",
      "Epoch 16/20\n",
      "48000/48000 [==============================] - 1s 26us/step - loss: 0.0051 - acc: 0.9988 - val_loss: 0.0939 - val_acc: 0.9782\n",
      "Epoch 17/20\n",
      "48000/48000 [==============================] - 1s 26us/step - loss: 0.0042 - acc: 0.9990 - val_loss: 0.0932 - val_acc: 0.9788\n",
      "Epoch 18/20\n",
      "48000/48000 [==============================] - 1s 26us/step - loss: 0.0032 - acc: 0.9994 - val_loss: 0.1015 - val_acc: 0.9792\n",
      "Epoch 19/20\n",
      "48000/48000 [==============================] - 1s 28us/step - loss: 0.0026 - acc: 0.9994 - val_loss: 0.1008 - val_acc: 0.9795\n",
      "Epoch 20/20\n",
      "48000/48000 [==============================] - 1s 30us/step - loss: 0.0021 - acc: 0.9995 - val_loss: 0.1038 - val_acc: 0.9792\n"
     ]
    }
   ],
   "source": [
    "network = build_network(256)\n",
    "history2 = network.fit(x_train, y_train, epochs=20, batch_size=128, validation_split=0.2)"
   ]
  },
  {
   "cell_type": "code",
   "execution_count": 8,
   "metadata": {
    "scrolled": false
   },
   "outputs": [
    {
     "data": {
      "image/png": "[encoded data removed]",
      "text/plain": [
       "<Figure size 576x288 with 2 Axes>"
      ]
     },
     "metadata": {
      "needs_background": "light"
     },
     "output_type": "display_data"
    }
   ],
   "source": [
    "plot_history(history2)"
   ]
  },
  {
   "cell_type": "code",
   "execution_count": 9,
   "metadata": {
    "scrolled": false
   },
   "outputs": [
    {
     "name": "stdout",
     "output_type": "stream",
     "text": [
      "10000/10000 [==============================] - 0s 19us/step\n",
      "test acc: 0.9798\n"
     ]
    }
   ],
   "source": [
    "test_loss, test_acc = network.evaluate(x_test, y_test)\n",
    "print('test acc:', test_acc)"
   ]
  },
  {
   "cell_type": "code",
   "execution_count": 10,
   "metadata": {
    "scrolled": false
   },
   "outputs": [
    {
     "data": {
      "image/png": "[encoded data removed]",
      "text/plain": [
       "<Figure size 576x288 with 2 Axes>"
      ]
     },
     "metadata": {
      "needs_background": "light"
     },
     "output_type": "display_data"
    }
   ],
   "source": [
    "from util import compare_history\n",
    "\n",
    "compare_history(history, history2)"
   ]
  },
  {
   "cell_type": "code",
   "execution_count": null,
   "metadata": {},
   "outputs": [],
   "source": []
  }
 ],
 "metadata": {
  "kernelspec": {
   "display_name": "Python 3",
   "language": "python",
   "name": "python3"
  },
  "language_info": {
   "codemirror_mode": {
    "name": "ipython",
    "version": 3
   },
   "file_extension": ".py",
   "mimetype": "text/x-python",
   "name": "python",
   "nbconvert_exporter": "python",
   "pygments_lexer": "ipython3",
   "version": "3.5.6"
  }
 },
 "nbformat": 4,
 "nbformat_minor": 1
}
